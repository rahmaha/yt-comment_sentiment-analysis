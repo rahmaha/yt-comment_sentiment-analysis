{
 "cells": [
  {
   "cell_type": "markdown",
   "metadata": {},
   "source": [
    "# Youtube Comment Sentiment Analysis\n",
    "\n",
    "by Rahma Hayuning Astuti"
   ]
  },
  {
   "cell_type": "code",
   "execution_count": 1,
   "metadata": {},
   "outputs": [],
   "source": [
    "import pandas as pd\n",
    "import numpy as np\n",
    "import matplotlib.pyplot as plt\n",
    "import seaborn as sns\n",
    "\n",
    "from sklearn.model_selection import train_test_split\n",
    "from sklearn.model_selection import KFold, cross_val_score\n",
    "\n",
    "from sklearn.feature_extraction.text import TfidfVectorizer\n",
    "from sklearn.linear_model import LogisticRegression\n",
    "from sklearn.pipeline import Pipeline\n",
    "from sklearn.metrics import accuracy_score, classification_report"
   ]
  },
  {
   "cell_type": "code",
   "execution_count": null,
   "metadata": {},
   "outputs": [
    {
     "data": {
      "text/html": [
       "<div>\n",
       "<style scoped>\n",
       "    .dataframe tbody tr th:only-of-type {\n",
       "        vertical-align: middle;\n",
       "    }\n",
       "\n",
       "    .dataframe tbody tr th {\n",
       "        vertical-align: top;\n",
       "    }\n",
       "\n",
       "    .dataframe thead th {\n",
       "        text-align: right;\n",
       "    }\n",
       "</style>\n",
       "<table border=\"1\" class=\"dataframe\">\n",
       "  <thead>\n",
       "    <tr style=\"text-align: right;\">\n",
       "      <th></th>\n",
       "      <th>Comment</th>\n",
       "      <th>Sentiment</th>\n",
       "    </tr>\n",
       "  </thead>\n",
       "  <tbody>\n",
       "    <tr>\n",
       "      <th>0</th>\n",
       "      <td>lets not forget that apple pay in 2014 require...</td>\n",
       "      <td>neutral</td>\n",
       "    </tr>\n",
       "    <tr>\n",
       "      <th>1</th>\n",
       "      <td>here in nz 50 of retailers don’t even have con...</td>\n",
       "      <td>negative</td>\n",
       "    </tr>\n",
       "    <tr>\n",
       "      <th>2</th>\n",
       "      <td>i will forever acknowledge this channel with t...</td>\n",
       "      <td>positive</td>\n",
       "    </tr>\n",
       "    <tr>\n",
       "      <th>3</th>\n",
       "      <td>whenever i go to a place that doesn’t take app...</td>\n",
       "      <td>negative</td>\n",
       "    </tr>\n",
       "    <tr>\n",
       "      <th>4</th>\n",
       "      <td>apple pay is so convenient secure and easy to ...</td>\n",
       "      <td>positive</td>\n",
       "    </tr>\n",
       "  </tbody>\n",
       "</table>\n",
       "</div>"
      ],
      "text/plain": [
       "                                             Comment Sentiment\n",
       "0  lets not forget that apple pay in 2014 require...   neutral\n",
       "1  here in nz 50 of retailers don’t even have con...  negative\n",
       "2  i will forever acknowledge this channel with t...  positive\n",
       "3  whenever i go to a place that doesn’t take app...  negative\n",
       "4  apple pay is so convenient secure and easy to ...  positive"
      ]
     },
     "execution_count": 3,
     "metadata": {},
     "output_type": "execute_result"
    }
   ],
   "source": [
    "# read dataset\n",
    "df = pd.read_csv('./data/youtube-comments-dataset.csv')\n",
    "df.head()"
   ]
  },
  {
   "cell_type": "code",
   "execution_count": 4,
   "metadata": {},
   "outputs": [
    {
     "data": {
      "text/html": [
       "<div>\n",
       "<style scoped>\n",
       "    .dataframe tbody tr th:only-of-type {\n",
       "        vertical-align: middle;\n",
       "    }\n",
       "\n",
       "    .dataframe tbody tr th {\n",
       "        vertical-align: top;\n",
       "    }\n",
       "\n",
       "    .dataframe thead th {\n",
       "        text-align: right;\n",
       "    }\n",
       "</style>\n",
       "<table border=\"1\" class=\"dataframe\">\n",
       "  <thead>\n",
       "    <tr style=\"text-align: right;\">\n",
       "      <th></th>\n",
       "      <th>comment</th>\n",
       "      <th>sentiment</th>\n",
       "    </tr>\n",
       "  </thead>\n",
       "  <tbody>\n",
       "    <tr>\n",
       "      <th>0</th>\n",
       "      <td>lets not forget that apple pay in 2014 require...</td>\n",
       "      <td>neutral</td>\n",
       "    </tr>\n",
       "    <tr>\n",
       "      <th>1</th>\n",
       "      <td>here in nz 50 of retailers don’t even have con...</td>\n",
       "      <td>negative</td>\n",
       "    </tr>\n",
       "    <tr>\n",
       "      <th>2</th>\n",
       "      <td>i will forever acknowledge this channel with t...</td>\n",
       "      <td>positive</td>\n",
       "    </tr>\n",
       "    <tr>\n",
       "      <th>3</th>\n",
       "      <td>whenever i go to a place that doesn’t take app...</td>\n",
       "      <td>negative</td>\n",
       "    </tr>\n",
       "    <tr>\n",
       "      <th>4</th>\n",
       "      <td>apple pay is so convenient secure and easy to ...</td>\n",
       "      <td>positive</td>\n",
       "    </tr>\n",
       "  </tbody>\n",
       "</table>\n",
       "</div>"
      ],
      "text/plain": [
       "                                             comment sentiment\n",
       "0  lets not forget that apple pay in 2014 require...   neutral\n",
       "1  here in nz 50 of retailers don’t even have con...  negative\n",
       "2  i will forever acknowledge this channel with t...  positive\n",
       "3  whenever i go to a place that doesn’t take app...  negative\n",
       "4  apple pay is so convenient secure and easy to ...  positive"
      ]
     },
     "execution_count": 4,
     "metadata": {},
     "output_type": "execute_result"
    }
   ],
   "source": [
    "# change to lowercase\n",
    "df.columns = df.columns.str.lower()\n",
    "df.head()"
   ]
  },
  {
   "cell_type": "markdown",
   "metadata": {},
   "source": [
    "## EDA"
   ]
  },
  {
   "cell_type": "code",
   "execution_count": 5,
   "metadata": {},
   "outputs": [
    {
     "data": {
      "text/plain": [
       "comment      object\n",
       "sentiment    object\n",
       "dtype: object"
      ]
     },
     "execution_count": 5,
     "metadata": {},
     "output_type": "execute_result"
    }
   ],
   "source": [
    "df.dtypes"
   ]
  },
  {
   "cell_type": "code",
   "execution_count": 6,
   "metadata": {},
   "outputs": [
    {
     "data": {
      "text/html": [
       "<div>\n",
       "<style scoped>\n",
       "    .dataframe tbody tr th:only-of-type {\n",
       "        vertical-align: middle;\n",
       "    }\n",
       "\n",
       "    .dataframe tbody tr th {\n",
       "        vertical-align: top;\n",
       "    }\n",
       "\n",
       "    .dataframe thead th {\n",
       "        text-align: right;\n",
       "    }\n",
       "</style>\n",
       "<table border=\"1\" class=\"dataframe\">\n",
       "  <thead>\n",
       "    <tr style=\"text-align: right;\">\n",
       "      <th></th>\n",
       "      <th>comment</th>\n",
       "      <th>sentiment</th>\n",
       "    </tr>\n",
       "  </thead>\n",
       "  <tbody>\n",
       "    <tr>\n",
       "      <th>count</th>\n",
       "      <td>18364</td>\n",
       "      <td>18408</td>\n",
       "    </tr>\n",
       "    <tr>\n",
       "      <th>unique</th>\n",
       "      <td>17871</td>\n",
       "      <td>3</td>\n",
       "    </tr>\n",
       "    <tr>\n",
       "      <th>top</th>\n",
       "      <td>one of the best thing about dude is that he ne...</td>\n",
       "      <td>positive</td>\n",
       "    </tr>\n",
       "    <tr>\n",
       "      <th>freq</th>\n",
       "      <td>10</td>\n",
       "      <td>11432</td>\n",
       "    </tr>\n",
       "  </tbody>\n",
       "</table>\n",
       "</div>"
      ],
      "text/plain": [
       "                                                  comment sentiment\n",
       "count                                               18364     18408\n",
       "unique                                              17871         3\n",
       "top     one of the best thing about dude is that he ne...  positive\n",
       "freq                                                   10     11432"
      ]
     },
     "execution_count": 6,
     "metadata": {},
     "output_type": "execute_result"
    }
   ],
   "source": [
    "df.describe()"
   ]
  },
  {
   "cell_type": "code",
   "execution_count": 7,
   "metadata": {},
   "outputs": [
    {
     "data": {
      "text/plain": [
       "comment      44\n",
       "sentiment     0\n",
       "dtype: int64"
      ]
     },
     "execution_count": 7,
     "metadata": {},
     "output_type": "execute_result"
    }
   ],
   "source": [
    "#check for missing value\n",
    "df.isna().sum()"
   ]
  },
  {
   "cell_type": "code",
   "execution_count": 8,
   "metadata": {},
   "outputs": [],
   "source": [
    "#delete the missing value, since it's only a few\n",
    "df = df.dropna()"
   ]
  },
  {
   "cell_type": "code",
   "execution_count": 9,
   "metadata": {},
   "outputs": [
    {
     "data": {
      "text/plain": [
       "comment      0\n",
       "sentiment    0\n",
       "dtype: int64"
      ]
     },
     "execution_count": 9,
     "metadata": {},
     "output_type": "execute_result"
    }
   ],
   "source": [
    "df.isna().sum()"
   ]
  },
  {
   "cell_type": "code",
   "execution_count": 10,
   "metadata": {},
   "outputs": [
    {
     "data": {
      "text/html": [
       "<div>\n",
       "<style scoped>\n",
       "    .dataframe tbody tr th:only-of-type {\n",
       "        vertical-align: middle;\n",
       "    }\n",
       "\n",
       "    .dataframe tbody tr th {\n",
       "        vertical-align: top;\n",
       "    }\n",
       "\n",
       "    .dataframe thead th {\n",
       "        text-align: right;\n",
       "    }\n",
       "</style>\n",
       "<table border=\"1\" class=\"dataframe\">\n",
       "  <thead>\n",
       "    <tr style=\"text-align: right;\">\n",
       "      <th></th>\n",
       "      <th>comment</th>\n",
       "      <th>sentiment</th>\n",
       "    </tr>\n",
       "  </thead>\n",
       "  <tbody>\n",
       "    <tr>\n",
       "      <th>0</th>\n",
       "      <td>lets not forget that apple pay in 2014 require...</td>\n",
       "      <td>neutral</td>\n",
       "    </tr>\n",
       "    <tr>\n",
       "      <th>1</th>\n",
       "      <td>here in nz 50 of retailers don’t even have con...</td>\n",
       "      <td>negative</td>\n",
       "    </tr>\n",
       "    <tr>\n",
       "      <th>2</th>\n",
       "      <td>i will forever acknowledge this channel with t...</td>\n",
       "      <td>positive</td>\n",
       "    </tr>\n",
       "    <tr>\n",
       "      <th>3</th>\n",
       "      <td>whenever i go to a place that doesn’t take app...</td>\n",
       "      <td>negative</td>\n",
       "    </tr>\n",
       "    <tr>\n",
       "      <th>4</th>\n",
       "      <td>apple pay is so convenient secure and easy to ...</td>\n",
       "      <td>positive</td>\n",
       "    </tr>\n",
       "  </tbody>\n",
       "</table>\n",
       "</div>"
      ],
      "text/plain": [
       "                                             comment sentiment\n",
       "0  lets not forget that apple pay in 2014 require...   neutral\n",
       "1  here in nz 50 of retailers don’t even have con...  negative\n",
       "2  i will forever acknowledge this channel with t...  positive\n",
       "3  whenever i go to a place that doesn’t take app...  negative\n",
       "4  apple pay is so convenient secure and easy to ...  positive"
      ]
     },
     "execution_count": 10,
     "metadata": {},
     "output_type": "execute_result"
    }
   ],
   "source": [
    "df.head()"
   ]
  },
  {
   "cell_type": "code",
   "execution_count": 11,
   "metadata": {},
   "outputs": [
    {
     "data": {
      "text/html": [
       "<style type=\"text/css\">\n",
       "#T_458e4_row0_col1 {\n",
       "  background-color: #67000d;\n",
       "  color: #f1f1f1;\n",
       "}\n",
       "#T_458e4_row1_col1 {\n",
       "  background-color: #fcbba1;\n",
       "  color: #000000;\n",
       "}\n",
       "#T_458e4_row2_col1 {\n",
       "  background-color: #fff5f0;\n",
       "  color: #000000;\n",
       "}\n",
       "</style>\n",
       "<table id=\"T_458e4\">\n",
       "  <thead>\n",
       "    <tr>\n",
       "      <th class=\"blank level0\" >&nbsp;</th>\n",
       "      <th id=\"T_458e4_level0_col0\" class=\"col_heading level0 col0\" >sentiment</th>\n",
       "      <th id=\"T_458e4_level0_col1\" class=\"col_heading level0 col1\" >comment</th>\n",
       "    </tr>\n",
       "  </thead>\n",
       "  <tbody>\n",
       "    <tr>\n",
       "      <th id=\"T_458e4_level0_row0\" class=\"row_heading level0 row0\" >2</th>\n",
       "      <td id=\"T_458e4_row0_col0\" class=\"data row0 col0\" >positive</td>\n",
       "      <td id=\"T_458e4_row0_col1\" class=\"data row0 col1\" >11402</td>\n",
       "    </tr>\n",
       "    <tr>\n",
       "      <th id=\"T_458e4_level0_row1\" class=\"row_heading level0 row1\" >1</th>\n",
       "      <td id=\"T_458e4_row1_col0\" class=\"data row1 col0\" >neutral</td>\n",
       "      <td id=\"T_458e4_row1_col1\" class=\"data row1 col1\" >4625</td>\n",
       "    </tr>\n",
       "    <tr>\n",
       "      <th id=\"T_458e4_level0_row2\" class=\"row_heading level0 row2\" >0</th>\n",
       "      <td id=\"T_458e4_row2_col0\" class=\"data row2 col0\" >negative</td>\n",
       "      <td id=\"T_458e4_row2_col1\" class=\"data row2 col1\" >2337</td>\n",
       "    </tr>\n",
       "  </tbody>\n",
       "</table>\n"
      ],
      "text/plain": [
       "<pandas.io.formats.style.Styler at 0x29fc816b130>"
      ]
     },
     "execution_count": 11,
     "metadata": {},
     "output_type": "execute_result"
    }
   ],
   "source": [
    "# check data distribution\n",
    "\n",
    "temp = df.groupby('sentiment').count()['comment'].reset_index().sort_values(by='sentiment', ascending=False)\n",
    "temp.style.background_gradient(cmap='Reds')\n"
   ]
  },
  {
   "cell_type": "code",
   "execution_count": 12,
   "metadata": {},
   "outputs": [
    {
     "data": {
      "image/png": "[encoded data removed]",
      "text/plain": [
       "<Figure size 432x288 with 1 Axes>"
      ]
     },
     "metadata": {
      "needs_background": "light"
     },
     "output_type": "display_data"
    }
   ],
   "source": [
    "sns.countplot(x=df['sentiment'])\n",
    "plt.title('Data Distribution')\n",
    "plt.show()"
   ]
  },
  {
   "cell_type": "markdown",
   "metadata": {},
   "source": [
    "most common words"
   ]
  },
  {
   "cell_type": "code",
   "execution_count": 13,
   "metadata": {},
   "outputs": [
    {
     "name": "stdout",
     "output_type": "stream",
     "text": [
      "Most common words in positive reviews: [('love', 1960), ('like', 1621), ('video', 1499), ('thank', 1440), ('great', 1366), ('really', 1291), ('one', 1272), ('much', 1175), ('good', 1144), ('im', 1059), ('videos', 984), ('time', 950), ('get', 825), ('always', 809), ('thanks', 806), ('best', 751), ('see', 746), ('would', 738), ('amazing', 699), ('make', 637)]\n",
      "Most common words in negative reviews: [('like', 428), ('people', 372), ('one', 279), ('would', 263), ('get', 246), ('even', 242), ('dont', 228), ('time', 217), ('im', 213), ('know', 210), ('really', 180), ('think', 168), ('much', 151), ('never', 146), ('make', 144), ('years', 142), ('way', 139), ('see', 135), ('still', 134), ('want', 132)]\n"
     ]
    },
    {
     "name": "stderr",
     "output_type": "stream",
     "text": [
      "[nltk_data] Downloading package stopwords to\n",
      "[nltk_data]     C:\\Users\\asus\\AppData\\Roaming\\nltk_data...\n",
      "[nltk_data]   Package stopwords is already up-to-date!\n"
     ]
    }
   ],
   "source": [
    "from collections import Counter\n",
    "import nltk\n",
    "from nltk.corpus import stopwords\n",
    "\n",
    "nltk.download('stopwords')\n",
    "stop_words = set(stopwords.words('english'))\n",
    "\n",
    "# Tokenizing words and removing stopwords\n",
    "def get_most_common_words(texts, n=20):\n",
    "    words = \" \".join(texts).lower().split()\n",
    "    words = [word for word in words if word not in stop_words]  \n",
    "    return Counter(words).most_common(n)\n",
    "\n",
    "# Get most frequent words\n",
    "positive_words = get_most_common_words(df[df['sentiment'] == 'positive']['comment'])\n",
    "negative_words = get_most_common_words(df[df['sentiment'] == 'negative']['comment'])\n",
    "\n",
    "print(\"Most common words in positive reviews:\", positive_words)\n",
    "print(\"Most common words in negative reviews:\", negative_words)\n"
   ]
  },
  {
   "cell_type": "markdown",
   "metadata": {},
   "source": [
    "find text length"
   ]
  },
  {
   "cell_type": "code",
   "execution_count": 27,
   "metadata": {},
   "outputs": [
    {
     "name": "stderr",
     "output_type": "stream",
     "text": [
      "c:\\Users\\asus\\AppData\\Local\\Programs\\Python\\Python310\\lib\\site-packages\\seaborn\\_oldcore.py:1119: FutureWarning: use_inf_as_na option is deprecated and will be removed in a future version. Convert inf values to NaN before operating instead.\n",
      "  with pd.option_context('mode.use_inf_as_na', True):\n"
     ]
    },
    {
     "data": {
      "image/png": "[encoded data removed]",
      "text/plain": [
       "<Figure size 432x288 with 1 Axes>"
      ]
     },
     "metadata": {
      "needs_background": "light"
     },
     "output_type": "display_data"
    }
   ],
   "source": [
    "df['text_length'] = df['comment'].apply(lambda x: len(x.split()))\n",
    "\n",
    "sns.histplot(df['text_length'], bins=50, kde=True)\n",
    "plt.title(\"Text Length Distribution\")\n",
    "plt.show()\n"
   ]
  },
  {
   "cell_type": "code",
   "execution_count": 19,
   "metadata": {},
   "outputs": [
    {
     "name": "stdout",
     "output_type": "stream",
     "text": [
      "Most common words: [('like', 2631), ('just', 2588), ('love', 2152), ('video', 1944), ('really', 1648), ('time', 1544), ('thank', 1511), ('great', 1503), ('im', 1490), ('good', 1412), ('people', 1255), ('videos', 1085), ('know', 1079), ('make', 1037), ('best', 904), ('thanks', 867), ('game', 861), ('way', 858), ('think', 857), ('dont', 848)]\n"
     ]
    }
   ],
   "source": [
    "from sklearn.feature_extraction.text import CountVectorizer\n",
    "\n",
    "# create the transform\n",
    "vectorizer = CountVectorizer(stop_words='english', max_features=5000)\n",
    "X = vectorizer.fit_transform(df['Comment'])\n",
    "\n",
    "# summarize encoded vector\n",
    "word_freq = dict(zip(vectorizer.get_feature_names_out(), X.toarray().sum(axis=0)))\n",
    "sorted_word_freq = sorted(word_freq.items(), key=lambda x: x[1], reverse=True)\n",
    "\n",
    "print('Most common words:', sorted_word_freq[:20])"
   ]
  },
  {
   "cell_type": "code",
   "execution_count": 29,
   "metadata": {},
   "outputs": [
    {
     "name": "stdout",
     "output_type": "stream",
     "text": [
      "Top Negative Bigrams: [((('like', 428), ('people', 372)), 1), ((('people', 372), ('one', 279)), 1), ((('one', 279), ('would', 263)), 1), ((('would', 263), ('get', 246)), 1), ((('get', 246), ('even', 242)), 1)]\n",
      "Top Positive Bigrams: [((('love', 1960), ('like', 1621)), 1), ((('like', 1621), ('video', 1499)), 1), ((('video', 1499), ('thank', 1440)), 1), ((('thank', 1440), ('great', 1366)), 1), ((('great', 1366), ('really', 1291)), 1)]\n"
     ]
    }
   ],
   "source": [
    "from nltk.util import ngrams\n",
    "\n",
    "# Function to extract n-grams\n",
    "def get_ngrams(word_list, n=2):\n",
    "    return list(ngrams(word_list, n))\n",
    "\n",
    "# Get bigrams for negative comments\n",
    "negative_bigrams = get_ngrams(negative_words, n=2)\n",
    "print(\"Top Negative Bigrams:\", Counter(negative_bigrams).most_common(5))\n",
    "positive_bigrams = get_ngrams(positive_words, n=2)\n",
    "print(\"Top Positive Bigrams:\", Counter(positive_bigrams).most_common(5))"
   ]
  },
  {
   "cell_type": "markdown",
   "metadata": {},
   "source": [
    "### correlation of word and sentiment"
   ]
  },
  {
   "cell_type": "code",
   "execution_count": 35,
   "metadata": {},
   "outputs": [],
   "source": [
    "#encode the label\n",
    "\n",
    "from sklearn.preprocessing import LabelEncoder\n",
    "\n",
    "# Encode sentiment labels into numbers\n",
    "le = LabelEncoder()\n",
    "df[\"sentiment\"] = le.fit_transform(df[\"sentiment\"])\n"
   ]
  },
  {
   "cell_type": "code",
   "execution_count": 36,
   "metadata": {},
   "outputs": [
    {
     "data": {
      "text/html": [
       "<div>\n",
       "<style scoped>\n",
       "    .dataframe tbody tr th:only-of-type {\n",
       "        vertical-align: middle;\n",
       "    }\n",
       "\n",
       "    .dataframe tbody tr th {\n",
       "        vertical-align: top;\n",
       "    }\n",
       "\n",
       "    .dataframe thead th {\n",
       "        text-align: right;\n",
       "    }\n",
       "</style>\n",
       "<table border=\"1\" class=\"dataframe\">\n",
       "  <thead>\n",
       "    <tr style=\"text-align: right;\">\n",
       "      <th></th>\n",
       "      <th>comment</th>\n",
       "      <th>sentiment</th>\n",
       "      <th>text_length</th>\n",
       "      <th>emojis</th>\n",
       "    </tr>\n",
       "  </thead>\n",
       "  <tbody>\n",
       "    <tr>\n",
       "      <th>0</th>\n",
       "      <td>lets not forget that apple pay in 2014 require...</td>\n",
       "      <td>1</td>\n",
       "      <td>57</td>\n",
       "      <td></td>\n",
       "    </tr>\n",
       "    <tr>\n",
       "      <th>1</th>\n",
       "      <td>here in nz 50 of retailers don’t even have con...</td>\n",
       "      <td>0</td>\n",
       "      <td>29</td>\n",
       "      <td></td>\n",
       "    </tr>\n",
       "    <tr>\n",
       "      <th>2</th>\n",
       "      <td>i will forever acknowledge this channel with t...</td>\n",
       "      <td>2</td>\n",
       "      <td>31</td>\n",
       "      <td></td>\n",
       "    </tr>\n",
       "    <tr>\n",
       "      <th>3</th>\n",
       "      <td>whenever i go to a place that doesn’t take app...</td>\n",
       "      <td>0</td>\n",
       "      <td>83</td>\n",
       "      <td></td>\n",
       "    </tr>\n",
       "    <tr>\n",
       "      <th>4</th>\n",
       "      <td>apple pay is so convenient secure and easy to ...</td>\n",
       "      <td>2</td>\n",
       "      <td>26</td>\n",
       "      <td></td>\n",
       "    </tr>\n",
       "  </tbody>\n",
       "</table>\n",
       "</div>"
      ],
      "text/plain": [
       "                                             comment  sentiment  text_length  \\\n",
       "0  lets not forget that apple pay in 2014 require...          1           57   \n",
       "1  here in nz 50 of retailers don’t even have con...          0           29   \n",
       "2  i will forever acknowledge this channel with t...          2           31   \n",
       "3  whenever i go to a place that doesn’t take app...          0           83   \n",
       "4  apple pay is so convenient secure and easy to ...          2           26   \n",
       "\n",
       "  emojis  \n",
       "0         \n",
       "1         \n",
       "2         \n",
       "3         \n",
       "4         "
      ]
     },
     "execution_count": 36,
     "metadata": {},
     "output_type": "execute_result"
    }
   ],
   "source": [
    "df.head()"
   ]
  },
  {
   "cell_type": "code",
   "execution_count": 37,
   "metadata": {},
   "outputs": [
    {
     "name": "stdout",
     "output_type": "stream",
     "text": [
      "Top Positive Correlated Words: sentiment    1.000000\n",
      "song         0.035464\n",
      "love         0.035053\n",
      "data         0.032489\n",
      "you          0.031852\n",
      "machine      0.029814\n",
      "this         0.028492\n",
      "courses      0.027819\n",
      "thanks       0.027403\n",
      "music        0.026190\n",
      "Name: sentiment, dtype: float64\n",
      "Top Negative Correlated Words: solved      -0.026230\n",
      "their       -0.026291\n",
      "country     -0.031401\n",
      "issue       -0.031945\n",
      "he          -0.032313\n",
      "law         -0.033004\n",
      "they        -0.034852\n",
      "people      -0.036590\n",
      "trump       -0.048652\n",
      "documents   -0.054534\n",
      "Name: sentiment, dtype: float64\n"
     ]
    }
   ],
   "source": [
    "from sklearn.feature_extraction.text import TfidfVectorizer\n",
    "\n",
    "# Get TF-IDF scores for words\n",
    "tfidf = TfidfVectorizer(max_features=1000)\n",
    "X = tfidf.fit_transform(df[\"comment\"])\n",
    "feature_names = tfidf.get_feature_names_out()\n",
    "\n",
    "# Correlation with sentiment (1=positive, 0=negative)\n",
    "df_tfidf = pd.DataFrame(X.toarray(), columns=feature_names)\n",
    "df_tfidf[\"sentiment\"] = df[\"sentiment\"]\n",
    "\n",
    "# Words most correlated with positive sentiment\n",
    "correlations = df_tfidf.corr()[\"sentiment\"].sort_values(ascending=False)\n",
    "print(\"Top Positive Correlated Words:\", correlations.head(10))\n",
    "print(\"Top Negative Correlated Words:\", correlations.tail(10))"
   ]
  },
  {
   "cell_type": "code",
   "execution_count": 39,
   "metadata": {},
   "outputs": [
    {
     "data": {
      "text/html": [
       "<div>\n",
       "<style scoped>\n",
       "    .dataframe tbody tr th:only-of-type {\n",
       "        vertical-align: middle;\n",
       "    }\n",
       "\n",
       "    .dataframe tbody tr th {\n",
       "        vertical-align: top;\n",
       "    }\n",
       "\n",
       "    .dataframe thead th {\n",
       "        text-align: right;\n",
       "    }\n",
       "</style>\n",
       "<table border=\"1\" class=\"dataframe\">\n",
       "  <thead>\n",
       "    <tr style=\"text-align: right;\">\n",
       "      <th></th>\n",
       "      <th>comment</th>\n",
       "      <th>sentiment</th>\n",
       "      <th>text_length</th>\n",
       "    </tr>\n",
       "  </thead>\n",
       "  <tbody>\n",
       "    <tr>\n",
       "      <th>0</th>\n",
       "      <td>lets not forget that apple pay in 2014 require...</td>\n",
       "      <td>1</td>\n",
       "      <td>57</td>\n",
       "    </tr>\n",
       "    <tr>\n",
       "      <th>1</th>\n",
       "      <td>here in nz 50 of retailers don’t even have con...</td>\n",
       "      <td>0</td>\n",
       "      <td>29</td>\n",
       "    </tr>\n",
       "    <tr>\n",
       "      <th>2</th>\n",
       "      <td>i will forever acknowledge this channel with t...</td>\n",
       "      <td>2</td>\n",
       "      <td>31</td>\n",
       "    </tr>\n",
       "    <tr>\n",
       "      <th>3</th>\n",
       "      <td>whenever i go to a place that doesn’t take app...</td>\n",
       "      <td>0</td>\n",
       "      <td>83</td>\n",
       "    </tr>\n",
       "    <tr>\n",
       "      <th>4</th>\n",
       "      <td>apple pay is so convenient secure and easy to ...</td>\n",
       "      <td>2</td>\n",
       "      <td>26</td>\n",
       "    </tr>\n",
       "  </tbody>\n",
       "</table>\n",
       "</div>"
      ],
      "text/plain": [
       "                                             comment  sentiment  text_length\n",
       "0  lets not forget that apple pay in 2014 require...          1           57\n",
       "1  here in nz 50 of retailers don’t even have con...          0           29\n",
       "2  i will forever acknowledge this channel with t...          2           31\n",
       "3  whenever i go to a place that doesn’t take app...          0           83\n",
       "4  apple pay is so convenient secure and easy to ...          2           26"
      ]
     },
     "execution_count": 39,
     "metadata": {},
     "output_type": "execute_result"
    }
   ],
   "source": [
    "df.head()"
   ]
  },
  {
   "cell_type": "markdown",
   "metadata": {},
   "source": [
    "## Train-test Split"
   ]
  },
  {
   "cell_type": "code",
   "execution_count": 42,
   "metadata": {},
   "outputs": [],
   "source": [
    "from sklearn.model_selection import train_test_split, RandomizedSearchCV\n"
   ]
  },
  {
   "cell_type": "code",
   "execution_count": 56,
   "metadata": {},
   "outputs": [],
   "source": [
    "# separate X and y\n",
    "# X= \"Comment\" only\n",
    "X = df['comment'] \n",
    "\n",
    "# Target (y) = \"sentiment\" column\n",
    "y = df[\"sentiment\"]               # y is a Series"
   ]
  },
  {
   "cell_type": "code",
   "execution_count": 57,
   "metadata": {},
   "outputs": [],
   "source": [
    "#split the dataset\n",
    "\n",
    "X_train, X_test, y_train, y_test = train_test_split(\n",
    "    X, y, \n",
    "    test_size=0.2, \n",
    "    random_state=42\n",
    ")"
   ]
  },
  {
   "cell_type": "code",
   "execution_count": 58,
   "metadata": {},
   "outputs": [
    {
     "name": "stdout",
     "output_type": "stream",
     "text": [
      "X_train shape: (14691,)\n",
      "y_train shape: (14691,)\n",
      "X_test shape: (3673,)\n",
      "y_test shape: (3673,)\n"
     ]
    }
   ],
   "source": [
    "print(\"X_train shape:\", X_train.shape)\n",
    "print(\"y_train shape:\", y_train.shape)\n",
    "print(\"X_test shape:\", X_test.shape)\n",
    "print(\"y_test shape:\", y_test.shape)"
   ]
  },
  {
   "cell_type": "code",
   "execution_count": 59,
   "metadata": {},
   "outputs": [],
   "source": [
    "# make sure to X_train and X_test are dataframes\n",
    "X_train = X_train.to_frame()  # Convert Series to DataFrame\n",
    "X_test = X_test.to_frame()    # Convert Series to DataFrame"
   ]
  },
  {
   "cell_type": "code",
   "execution_count": 64,
   "metadata": {},
   "outputs": [
    {
     "name": "stdout",
     "output_type": "stream",
     "text": [
      "X_train shape: (14691, 1)\n",
      "y_train shape: (14691,)\n"
     ]
    }
   ],
   "source": [
    "# checking the shape\n",
    "print(\"X_train shape:\", X_train.shape)\n",
    "print(\"y_train shape:\", y_train.shape)\n"
   ]
  },
  {
   "cell_type": "code",
   "execution_count": 65,
   "metadata": {},
   "outputs": [
    {
     "name": "stdout",
     "output_type": "stream",
     "text": [
      "Type of X_train: <class 'pandas.core.frame.DataFrame'>\n",
      "X_train shape: (14691, 1)\n"
     ]
    }
   ],
   "source": [
    "print(\"Type of X_train:\", type(X_train))  # Should be <class 'pandas.core.frame.DataFrame'>\n",
    "print(\"X_train shape:\", X_train.shape)    # Should be (9794, 1)"
   ]
  },
  {
   "cell_type": "markdown",
   "metadata": {},
   "source": [
    "## Training the Model"
   ]
  },
  {
   "cell_type": "markdown",
   "metadata": {},
   "source": [
    "first let's train the classic model"
   ]
  },
  {
   "cell_type": "code",
   "execution_count": 60,
   "metadata": {},
   "outputs": [],
   "source": [
    "from sklearn.compose import ColumnTransformer\n",
    "from sklearn.ensemble import RandomForestClassifier\n",
    "from sklearn.svm import SVC"
   ]
  },
  {
   "cell_type": "code",
   "execution_count": 67,
   "metadata": {},
   "outputs": [],
   "source": [
    "# models and their hyperparameter grids\n",
    "\n",
    "\n",
    "models = {\n",
    "    \"Logistic Regression\": (LogisticRegression(max_iter=1000), {\n",
    "        \"clf__C\": [0.1, 1, 10], \n",
    "        \"clf__penalty\": [\"l1\", \"l2\"]  \n",
    "    }),\n",
    "    \n",
    "    \"Random Forest\": (RandomForestClassifier(), {\n",
    "        \"clf__n_estimators\": [50, 100, 200],\n",
    "        \"clf__max_depth\": [None, 10, 20]\n",
    "    }),\n",
    "    \n",
    "    \"SVM\": (SVC(), {\n",
    "        \"clf__C\": [0.1, 1, 10], \n",
    "        \"clf__kernel\": [\"linear\", \"rbf\"]\n",
    "    })\n",
    "}\n"
   ]
  },
  {
   "cell_type": "code",
   "execution_count": 68,
   "metadata": {},
   "outputs": [
    {
     "name": "stdout",
     "output_type": "stream",
     "text": [
      "Training Logistic Regression...\n"
     ]
    },
    {
     "name": "stderr",
     "output_type": "stream",
     "text": [
      "c:\\Users\\asus\\AppData\\Local\\Programs\\Python\\Python310\\lib\\site-packages\\sklearn\\model_selection\\_validation.py:425: FitFailedWarning: \n",
      "9 fits failed out of a total of 15.\n",
      "The score on these train-test partitions for these parameters will be set to nan.\n",
      "If these failures are not expected, you can try to debug them by setting error_score='raise'.\n",
      "\n",
      "Below are more details about the failures:\n",
      "--------------------------------------------------------------------------------\n",
      "9 fits failed with the following error:\n",
      "Traceback (most recent call last):\n",
      "  File \"c:\\Users\\asus\\AppData\\Local\\Programs\\Python\\Python310\\lib\\site-packages\\sklearn\\model_selection\\_validation.py\", line 729, in _fit_and_score\n",
      "    estimator.fit(X_train, y_train, **fit_params)\n",
      "  File \"c:\\Users\\asus\\AppData\\Local\\Programs\\Python\\Python310\\lib\\site-packages\\sklearn\\base.py\", line 1152, in wrapper\n",
      "    return fit_method(estimator, *args, **kwargs)\n",
      "  File \"c:\\Users\\asus\\AppData\\Local\\Programs\\Python\\Python310\\lib\\site-packages\\sklearn\\pipeline.py\", line 427, in fit\n",
      "    self._final_estimator.fit(Xt, y, **fit_params_last_step)\n",
      "  File \"c:\\Users\\asus\\AppData\\Local\\Programs\\Python\\Python310\\lib\\site-packages\\sklearn\\base.py\", line 1152, in wrapper\n",
      "    return fit_method(estimator, *args, **kwargs)\n",
      "  File \"c:\\Users\\asus\\AppData\\Local\\Programs\\Python\\Python310\\lib\\site-packages\\sklearn\\linear_model\\_logistic.py\", line 1169, in fit\n",
      "    solver = _check_solver(self.solver, self.penalty, self.dual)\n",
      "  File \"c:\\Users\\asus\\AppData\\Local\\Programs\\Python\\Python310\\lib\\site-packages\\sklearn\\linear_model\\_logistic.py\", line 56, in _check_solver\n",
      "    raise ValueError(\n",
      "ValueError: Solver lbfgs supports only 'l2' or 'none' penalties, got l1 penalty.\n",
      "\n",
      "  warnings.warn(some_fits_failed_message, FitFailedWarning)\n",
      "c:\\Users\\asus\\AppData\\Local\\Programs\\Python\\Python310\\lib\\site-packages\\sklearn\\model_selection\\_search.py:979: UserWarning: One or more of the test scores are non-finite: [       nan 0.65734123 0.75011912        nan        nan]\n",
      "  warnings.warn(\n"
     ]
    },
    {
     "name": "stdout",
     "output_type": "stream",
     "text": [
      "Training Random Forest...\n",
      "Training SVM...\n",
      "\n",
      "Logistic Regression:\n",
      "  Best Hyperparameters: {'clf__penalty': 'l2', 'clf__C': 10}\n",
      "  Best Accuracy: 0.7501\n",
      "\n",
      "Random Forest:\n",
      "  Best Hyperparameters: {'clf__n_estimators': 100, 'clf__max_depth': None}\n",
      "  Best Accuracy: 0.6887\n",
      "\n",
      "SVM:\n",
      "  Best Hyperparameters: {'clf__kernel': 'rbf', 'clf__C': 10}\n",
      "  Best Accuracy: 0.7512\n"
     ]
    }
   ],
   "source": [
    "# save the results and run the model\n",
    "\n",
    "results = {}\n",
    "for model_name, (model, param_grid) in models.items():\n",
    "    print(f\"Training {model_name}...\")\n",
    "    \n",
    "    # Define pipeline\n",
    "    pipeline = Pipeline([\n",
    "        (\"tfidf\", TfidfVectorizer()), \n",
    "        (\"clf\", model)\n",
    "    ])\n",
    "    \n",
    "    # Hyperparameter tuning\n",
    "    search = RandomizedSearchCV(\n",
    "        pipeline, \n",
    "        param_distributions=param_grid, \n",
    "        n_iter=5, \n",
    "        cv=3, \n",
    "        scoring=\"accuracy\",\n",
    "        n_jobs=-1,\n",
    "        random_state=42\n",
    "    )\n",
    "    \n",
    "    search.fit(X_train['comment'], y_train)\n",
    "    \n",
    "    # Store results\n",
    "    results[model_name] = {\n",
    "        \"Best Params\": search.best_params_,\n",
    "        \"Best Accuracy\": search.best_score_\n",
    "    }\n",
    "\n",
    "# Print results for all models\n",
    "for model, res in results.items():\n",
    "    print(f\"\\n{model}:\")\n",
    "    print(f\"  Best Hyperparameters: {res['Best Params']}\")\n",
    "    print(f\"  Best Accuracy: {res['Best Accuracy']:.4f}\")"
   ]
  },
  {
   "cell_type": "markdown",
   "metadata": {},
   "source": [
    "evaluate on test data"
   ]
  },
  {
   "cell_type": "code",
   "execution_count": 72,
   "metadata": {},
   "outputs": [],
   "source": [
    "from sklearn.metrics import classification_report, confusion_matrix, roc_curve, auc"
   ]
  },
  {
   "cell_type": "code",
   "execution_count": 80,
   "metadata": {},
   "outputs": [
    {
     "name": "stderr",
     "output_type": "stream",
     "text": [
      "C:\\Users\\asus\\AppData\\Local\\Temp/ipykernel_6500/827955304.py:20: MatplotlibDeprecationWarning: The seaborn styles shipped by Matplotlib are deprecated since 3.6, as they no longer correspond to the styles shipped by seaborn. However, they will remain available as 'seaborn-v0_8-<style>'. Alternatively, directly use the seaborn API instead.\n",
      "  plt.style.use('seaborn')\n"
     ]
    },
    {
     "data": {
      "image/png": "[encoded data removed]",
      "text/plain": [
       "<Figure size 1080x864 with 5 Axes>"
      ]
     },
     "metadata": {},
     "output_type": "display_data"
    },
    {
     "name": "stdout",
     "output_type": "stream",
     "text": [
      "\n",
      "=== Logistic Regression Test Results ===\n",
      "\n",
      "Classification Report:\n",
      "              precision    recall  f1-score   support\n",
      "\n",
      "           0       0.59      0.36      0.44       441\n",
      "           1       0.66      0.60      0.63       912\n",
      "           2       0.82      0.91      0.86      2320\n",
      "\n",
      "    accuracy                           0.77      3673\n",
      "   macro avg       0.69      0.62      0.65      3673\n",
      "weighted avg       0.75      0.77      0.76      3673\n",
      "\n",
      "\n",
      "=== Random Forest Test Results ===\n",
      "\n",
      "Classification Report:\n",
      "              precision    recall  f1-score   support\n",
      "\n",
      "           0       0.59      0.36      0.44       441\n",
      "           1       0.66      0.60      0.63       912\n",
      "           2       0.82      0.91      0.86      2320\n",
      "\n",
      "    accuracy                           0.77      3673\n",
      "   macro avg       0.69      0.62      0.65      3673\n",
      "weighted avg       0.75      0.77      0.76      3673\n",
      "\n",
      "\n",
      "=== SVM Test Results ===\n",
      "\n",
      "Classification Report:\n",
      "              precision    recall  f1-score   support\n",
      "\n",
      "           0       0.59      0.36      0.44       441\n",
      "           1       0.66      0.60      0.63       912\n",
      "           2       0.82      0.91      0.86      2320\n",
      "\n",
      "    accuracy                           0.77      3673\n",
      "   macro avg       0.69      0.62      0.65      3673\n",
      "weighted avg       0.75      0.77      0.76      3673\n",
      "\n"
     ]
    }
   ],
   "source": [
    "test_results = {}\n",
    "\n",
    "# Evaluate each model on test set\n",
    "for model_name, (model, _) in models.items():\n",
    "    # Get the best model from grid search\n",
    "    best_model = search.best_estimator_\n",
    "    \n",
    "    # Make predictions\n",
    "    y_pred = best_model.predict(X_test['comment'])\n",
    "    \n",
    "    # Store results\n",
    "    test_results[model_name] = {\n",
    "        \"predictions\": y_pred,\n",
    "        \"classification_report\": classification_report(y_test, y_pred),\n",
    "        \"confusion_matrix\": confusion_matrix(y_test, y_pred),\n",
    "        \"accuracy\": best_model.score(X_test['comment'], y_test)\n",
    "    }\n",
    "\n",
    "# Create visualizations\n",
    "plt.style.use('seaborn')\n",
    "fig, ((ax1, ax2), (ax3, ax4)) = plt.subplots(2, 2, figsize=(15, 12))\n",
    "\n",
    "# 1. Bar plot of accuracies\n",
    "accuracies = {model: results[\"Best Accuracy\"] for model, results in results.items()}\n",
    "test_accuracies = {model: res[\"accuracy\"] for model, res in test_results.items()}\n",
    "\n",
    "x = np.arange(len(models))\n",
    "width = 0.35\n",
    "\n",
    "ax1.bar(x - width/2, accuracies.values(), width, label='Validation')\n",
    "ax1.bar(x + width/2, test_accuracies.values(), width, label='Test')\n",
    "ax1.set_ylabel('Accuracy')\n",
    "ax1.set_title('Model Performance Comparison')\n",
    "ax1.set_xticks(x)\n",
    "ax1.set_xticklabels(models.keys(), rotation=45)\n",
    "ax1.legend()\n",
    "\n",
    "# 2. Per-class accuracy for each model\n",
    "class_results = {}\n",
    "for model_name, res in test_results.items():\n",
    "    report_dict = classification_report(y_test, res[\"predictions\"], output_dict=True)\n",
    "    class_results[model_name] = {str(cls): metrics['f1-score'] \n",
    "                                for cls, metrics in report_dict.items() \n",
    "                                if cls.isdigit()}  # Only get class results, not averages\n",
    "\n",
    "df_class = pd.DataFrame(class_results)\n",
    "df_class.plot(kind='bar', ax=ax2)\n",
    "ax2.set_title('Per-class F1 Scores')\n",
    "ax2.set_xlabel('Class')\n",
    "ax2.set_ylabel('F1 Score')\n",
    "ax2.legend(bbox_to_anchor=(1.05, 1))\n",
    "\n",
    "# 3. Confusion Matrix for best model\n",
    "best_model_name = max(test_accuracies, key=test_accuracies.get)\n",
    "best_cm = test_results[best_model_name][\"confusion_matrix\"]\n",
    "\n",
    "sns.heatmap(best_cm, annot=True, fmt='d', cmap='Blues', ax=ax3)\n",
    "ax3.set_title(f'Confusion Matrix - {best_model_name}')\n",
    "ax3.set_xlabel('Predicted')\n",
    "ax3.set_ylabel('Actual')\n",
    "\n",
    "# 4. Model Metrics Comparison\n",
    "model_metrics = {}\n",
    "for model_name, res in test_results.items():\n",
    "    report_dict = classification_report(y_test, res[\"predictions\"], output_dict=True)\n",
    "    model_metrics[model_name] = {\n",
    "        'Precision': report_dict['weighted avg']['precision'],\n",
    "        'Recall': report_dict['weighted avg']['recall'],\n",
    "        'F1-Score': report_dict['weighted avg']['f1-score']\n",
    "    }\n",
    "\n",
    "metrics_df = pd.DataFrame(model_metrics).T\n",
    "metrics_df.plot(kind='bar', ax=ax4)\n",
    "ax4.set_title('Model Metrics Comparison')\n",
    "ax4.set_xticklabels(metrics_df.index, rotation=45)\n",
    "ax4.legend(bbox_to_anchor=(1.05, 1))\n",
    "\n",
    "plt.tight_layout()\n",
    "plt.show()\n",
    "\n",
    "# Print detailed results\n",
    "for model_name, res in test_results.items():\n",
    "    print(f\"\\n=== {model_name} Test Results ===\")\n",
    "    print(\"\\nClassification Report:\")\n",
    "    print(res[\"classification_report\"])"
   ]
  },
  {
   "cell_type": "markdown",
   "metadata": {},
   "source": [
    "will use SVM for the model"
   ]
  }
 ],
 "metadata": {
  "kernelspec": {
   "display_name": "Python 3",
   "language": "python",
   "name": "python3"
  },
  "language_info": {
   "codemirror_mode": {
    "name": "ipython",
    "version": 3
   },
   "file_extension": ".py",
   "mimetype": "text/x-python",
   "name": "python",
   "nbconvert_exporter": "python",
   "pygments_lexer": "ipython3",
   "version": "3.10.11"
  }
 },
 "nbformat": 4,
 "nbformat_minor": 2
}
